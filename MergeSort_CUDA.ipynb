{
  "nbformat": 4,
  "nbformat_minor": 0,
  "metadata": {
    "colab": {
      "provenance": [],
      "gpuType": "T4"
    },
    "kernelspec": {
      "name": "python3",
      "display_name": "Python 3"
    },
    "language_info": {
      "name": "python"
    }
  },
  "cells": [
    {
      "cell_type": "code",
      "execution_count": null,
      "metadata": {
        "colab": {
          "base_uri": "https://localhost:8080/"
        },
        "id": "OOY8eKCnFqR2",
        "outputId": "d7bc4348-dc9e-4d27-ef92-9a8ac9b2276c"
      },
      "outputs": [
        {
          "output_type": "stream",
          "name": "stdout",
          "text": [
            "bin    cuda\tcuda-12.2  games\t       include\tlib64\t   man\t share\n",
            "colab  cuda-12\tetc\t   _gcs_config_ops.so  lib\tlicensing  sbin  src\n"
          ]
        }
      ],
      "source": [
        "!ls /usr/local/"
      ]
    },
    {
      "cell_type": "code",
      "source": [
        "!which nvcc"
      ],
      "metadata": {
        "colab": {
          "base_uri": "https://localhost:8080/"
        },
        "id": "DODvpM2sHS7a",
        "outputId": "7d9e6e50-9a07-4e93-b6a1-bbe2b12728b0"
      },
      "execution_count": null,
      "outputs": [
        {
          "output_type": "stream",
          "name": "stdout",
          "text": [
            "/usr/local/cuda/bin/nvcc\n"
          ]
        }
      ]
    },
    {
      "cell_type": "code",
      "source": [
        "!nvidia-smi"
      ],
      "metadata": {
        "colab": {
          "base_uri": "https://localhost:8080/"
        },
        "id": "rl6tVnrMHWrQ",
        "outputId": "15073f92-02ff-428f-d446-0b510e749c40"
      },
      "execution_count": 120,
      "outputs": [
        {
          "output_type": "stream",
          "name": "stdout",
          "text": [
            "Fri Jul 26 02:37:58 2024       \n",
            "+---------------------------------------------------------------------------------------+\n",
            "| NVIDIA-SMI 535.104.05             Driver Version: 535.104.05   CUDA Version: 12.2     |\n",
            "|-----------------------------------------+----------------------+----------------------+\n",
            "| GPU  Name                 Persistence-M | Bus-Id        Disp.A | Volatile Uncorr. ECC |\n",
            "| Fan  Temp   Perf          Pwr:Usage/Cap |         Memory-Usage | GPU-Util  Compute M. |\n",
            "|                                         |                      |               MIG M. |\n",
            "|=========================================+======================+======================|\n",
            "|   0  Tesla T4                       Off | 00000000:00:04.0 Off |                    0 |\n",
            "| N/A   33C    P8               9W /  70W |      0MiB / 15360MiB |      0%      Default |\n",
            "|                                         |                      |                  N/A |\n",
            "+-----------------------------------------+----------------------+----------------------+\n",
            "                                                                                         \n",
            "+---------------------------------------------------------------------------------------+\n",
            "| Processes:                                                                            |\n",
            "|  GPU   GI   CI        PID   Type   Process name                            GPU Memory |\n",
            "|        ID   ID                                                             Usage      |\n",
            "|=======================================================================================|\n",
            "|  No running processes found                                                           |\n",
            "+---------------------------------------------------------------------------------------+\n"
          ]
        }
      ]
    },
    {
      "cell_type": "code",
      "source": [
        "%%writefile mergesort.cu\n",
        "\n",
        "#include <stdio.h>\n",
        "\n",
        "__global__ void merge(int *in, int *out, int n, int stripe)\n",
        "{\n",
        "  int i = blockIdx.x*blockDim.x + threadIdx.x;\n",
        "  int num_elements = pow(2.0, (double)stripe);\n",
        "  int left_begin = i*num_elements*2;\n",
        "  int left_end = left_begin + num_elements - 1;\n",
        "  int right_begin = left_end+1;\n",
        "  int right_end = right_begin + num_elements - 1;\n",
        "\n",
        "  //printf(\"block = %d, thread = %d, i = %d, stripe = %d, num_elements = %d, left_begin = %d, left_end = %d, right_begin = %d, right_end = %d\\n\", blockIdx.x, threadIdx.x, i, stripe, num_elements, left_begin, left_end, right_begin, right_end);\n",
        "\n",
        "  int l_index = left_begin;\n",
        "  int r_index = right_begin;\n",
        "  int index = left_begin;\n",
        "\n",
        "  if(left_end < n && right_end < n)\n",
        "  {\n",
        "    while(l_index <= left_end && r_index <= right_end)\n",
        "    {\n",
        "      int l_val = in[l_index];\n",
        "      int r_val = in[r_index];\n",
        "      if(l_val <= r_val)\n",
        "      {\n",
        "        out[index] = l_val;\n",
        "        l_index++;\n",
        "      }\n",
        "      else if(r_val < l_val)\n",
        "      {\n",
        "        out[index] = r_val;\n",
        "        r_index++;\n",
        "      }\n",
        "      index++;\n",
        "    }\n",
        "\n",
        "    while(l_index <= left_end)\n",
        "    {\n",
        "      out[index] = in[l_index];\n",
        "      l_index++;\n",
        "      index++;\n",
        "    }\n",
        "\n",
        "    while(r_index <= right_end)\n",
        "    {\n",
        "      out[index] = in[r_index];\n",
        "      r_index++;\n",
        "      index++;\n",
        "    }\n",
        "  }\n",
        "}\n",
        "\n",
        "__global__ void sort(int n, int *x)\n",
        "{\n",
        "  int i = blockIdx.x*blockDim.x + threadIdx.x;\n",
        "  //printf(\"block = %d, blockDim = %d, thread = %d\\n\", blockIdx.x, blockDim.x, threadIdx.x);\n",
        "  //printf(\"i = %d\\n\", i);\n",
        "  if((i*2)+1 >= n)\n",
        "    return;\n",
        "\n",
        "  int num1 = x[i*2];\n",
        "  int num2 = x[(i*2)+1];\n",
        "  if(num1 > num2)\n",
        "  {\n",
        "    x[(i*2)+1] = num1;\n",
        "    x[i*2] = num2;\n",
        "    //printf(\"index = %d, val = %d\\n\", (i*2), x[i*2]);\n",
        "    //printf(\"index = %d, val = %d\\n\", ((i*2)+1), x[(i*2)+1]);\n",
        "  }\n",
        "}\n",
        "\n",
        "__global__ void mergesort(int n, int *x, int *y)\n",
        "{\n",
        "  int size = n/2;\n",
        "  int num_blocks = (size > 512) ? (size/512) : 1;\n",
        "  int num_threads = (size > 512) ? 512 : size;\n",
        "\n",
        "  sort<<<num_blocks, num_threads>>>(n, x);\n",
        "\n",
        "  /*for(int i=0; i<n; i++)\n",
        "    printf(\"(%d, %d), \", i, x[i]);\n",
        "  printf(\"\\n\");\n",
        "  printf(\"check -- %d\\n\", x[0]);*/\n",
        "\n",
        "  int stripe = 0;\n",
        "  while(size/2 >= 1)\n",
        "  {\n",
        "    stripe++;\n",
        "    size = size/2;\n",
        "\n",
        "    num_blocks = (size > 512) ? (size/512) : 1;\n",
        "    num_threads = (size > 512) ? 512 : size;\n",
        "\n",
        "    if(stripe%2 == 1)\n",
        "      merge<<<num_blocks, num_threads>>>(x, y, n, stripe);\n",
        "    else\n",
        "      merge<<<num_blocks, num_threads>>>(y, x, n, stripe);\n",
        "  }\n",
        "}\n",
        "\n",
        "int main(void)\n",
        "{\n",
        "  int N = 2048;\n",
        "  int *x, *y, *d_x, *d_y;\n",
        "  x = (int*)malloc(N*sizeof(int));\n",
        "  y = (int*)malloc(N*sizeof(int));\n",
        "\n",
        "  cudaMalloc(&d_x, N*sizeof(int));\n",
        "  cudaMalloc(&d_y, N*sizeof(int));\n",
        "\n",
        "  for (int i = 0; i < N; i++) {\n",
        "    x[i] = N-i;\n",
        "    y[i] = 0;\n",
        "  }\n",
        "\n",
        "  cudaMemcpy(d_x, x, N*sizeof(int), cudaMemcpyHostToDevice);\n",
        "  cudaMemcpy(d_y, y, N*sizeof(int), cudaMemcpyHostToDevice);\n",
        "\n",
        "  // Perform mergesort\n",
        "  mergesort<<<1, 1>>>(N, d_x, d_y);\n",
        "\n",
        "  int size = N;\n",
        "  int count = 0;\n",
        "  while(size > 1)\n",
        "  {\n",
        "    size = size/2;\n",
        "    count++;\n",
        "  }\n",
        "\n",
        "  if(count % 2 == 1)\n",
        "    cudaMemcpy(x, d_x, N*sizeof(int), cudaMemcpyDeviceToHost);\n",
        "  else\n",
        "    cudaMemcpy(x, d_y, N*sizeof(int), cudaMemcpyDeviceToHost);\n",
        "\n",
        "  printf(\"output\\n\");\n",
        "  for (int i = 0; i < N; i++)\n",
        "    if(x[i] != i+1)\n",
        "      printf(\"False!! i = %d\\n\", i);\n",
        "\n",
        "  cudaFree(d_x);\n",
        "  cudaFree(d_y);\n",
        "  free(x);\n",
        "  free(y);\n",
        "}"
      ],
      "metadata": {
        "colab": {
          "base_uri": "https://localhost:8080/"
        },
        "id": "pzG2u0_JHcBr",
        "outputId": "ef763bb5-3fa2-41e5-f7c7-499c87958437"
      },
      "execution_count": 124,
      "outputs": [
        {
          "output_type": "stream",
          "name": "stdout",
          "text": [
            "Writing mergesort.cu\n"
          ]
        }
      ]
    },
    {
      "cell_type": "code",
      "source": [
        "!nvcc -rdc=true mergesort.cu -o mergesort"
      ],
      "metadata": {
        "id": "WP71Ef0VHf8Q"
      },
      "execution_count": 125,
      "outputs": []
    },
    {
      "cell_type": "code",
      "source": [
        "!./mergesort"
      ],
      "metadata": {
        "colab": {
          "base_uri": "https://localhost:8080/"
        },
        "id": "ULpXZlFNH4vY",
        "outputId": "bd7dcf9f-4853-48e9-8926-24b6b74f7b41"
      },
      "execution_count": 126,
      "outputs": [
        {
          "output_type": "stream",
          "name": "stdout",
          "text": [
            "output\n"
          ]
        }
      ]
    }
  ]
}